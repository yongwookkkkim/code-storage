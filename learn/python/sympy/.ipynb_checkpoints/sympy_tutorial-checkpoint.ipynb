{
 "cells": [
  {
   "cell_type": "code",
   "execution_count": 12,
   "id": "personal-divide",
   "metadata": {},
   "outputs": [
    {
     "data": {
      "text/latex": [
       "$\\displaystyle \\frac{- \\frac{2 v_{p}}{3} + \\frac{\\sqrt{2} \\sqrt{3 g h_{0} + 3 h_{0} q + 2 v_{p}^{2}}}{3}}{g + q}$"
      ],
      "text/plain": [
       "(-2*v_p/3 + sqrt(2)*sqrt(3*g*h_0 + 3*h_0*q + 2*v_p**2)/3)/(g + q)"
      ]
     },
     "execution_count": 12,
     "metadata": {},
     "output_type": "execute_result"
    }
   ],
   "source": [
    "import sympy as sp\n",
    "import numpy as np\n",
    "import matplotlib.pyplot as plt\n",
    "\n",
    "t, h0, v0, g, vp, q = sp.symbols('t h_0 v_0 g v_p q', real=True, positive=True)\n",
    "\n",
    "h0t=h0-v0*t-sp.Rational(1,2)*g*t**2\n",
    "dh0dt=g*t-v0\n",
    "hpt=vp*t+sp.Rational(1,2)*q*t**2\n",
    "dhpdt=vp+q*t\n",
    "\n",
    "eq1=h0t-hpt\n",
    "eq2=dh0dt+dhpdt\n",
    "\n",
    "t_collide, v_initfall=sp.solve([eq1, eq2], [t, v0])[0]\n",
    "t_collide"
   ]
  },
  {
   "cell_type": "code",
   "execution_count": null,
   "id": "aware-trade",
   "metadata": {},
   "outputs": [],
   "source": []
  }
 ],
 "metadata": {
  "kernelspec": {
   "display_name": "Python 3",
   "language": "python",
   "name": "python3"
  },
  "language_info": {
   "codemirror_mode": {
    "name": "ipython",
    "version": 3
   },
   "file_extension": ".py",
   "mimetype": "text/x-python",
   "name": "python",
   "nbconvert_exporter": "python",
   "pygments_lexer": "ipython3",
   "version": "3.7.7"
  }
 },
 "nbformat": 4,
 "nbformat_minor": 5
}
